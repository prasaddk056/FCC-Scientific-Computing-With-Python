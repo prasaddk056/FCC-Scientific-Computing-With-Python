{
 "cells": [
  {
   "cell_type": "markdown",
   "id": "ae0e3584",
   "metadata": {},
   "source": [
    "# Arithmetic Formatter"
   ]
  },
  {
   "cell_type": "code",
   "execution_count": 1,
   "id": "4d9a832e",
   "metadata": {},
   "outputs": [],
   "source": [
    "problems = [\"32 + 698\", \"3801 - 2\", \"45 + 43\", \"123 + 49\"]"
   ]
  },
  {
   "cell_type": "code",
   "execution_count": 2,
   "id": "21247030",
   "metadata": {},
   "outputs": [],
   "source": [
    "def len_check(problems):\n",
    "    if len(problems) > 5:\n",
    "        return \"Error: Too many problems.\""
   ]
  },
  {
   "cell_type": "code",
   "execution_count": 3,
   "id": "19427a7f",
   "metadata": {},
   "outputs": [],
   "source": [
    "first_operand = []\n",
    "operator = []\n",
    "second_operand = []"
   ]
  },
  {
   "cell_type": "code",
   "execution_count": 4,
   "id": "ac171ffd",
   "metadata": {},
   "outputs": [],
   "source": [
    "for problem in problems:\n",
    "    pieces = problem.split()\n",
    "    \n",
    "    first_operand.append(pieces[0])\n",
    "    operator.append(pieces[1])\n",
    "    second_operand.append(pieces[2])\n"
   ]
  },
  {
   "cell_type": "code",
   "execution_count": 5,
   "id": "eae09d01",
   "metadata": {},
   "outputs": [
    {
     "data": {
      "text/plain": [
       "(['32', '3801', '45', '123'], ['+', '-', '+', '+'], ['698', '2', '43', '49'])"
      ]
     },
     "execution_count": 5,
     "metadata": {},
     "output_type": "execute_result"
    }
   ],
   "source": [
    "first_operand , operator , second_operand"
   ]
  },
  {
   "cell_type": "code",
   "execution_count": 6,
   "id": "87aaf7bb",
   "metadata": {},
   "outputs": [],
   "source": [
    "def op_checker(operator):\n",
    "    if \"*\" in operator or \"/\" in operator:\n",
    "        return \"Error: Operator must be '+' or '-'.\""
   ]
  },
  {
   "cell_type": "code",
   "execution_count": 7,
   "id": "db087eb0",
   "metadata": {},
   "outputs": [],
   "source": [
    "def checker(first_operand , second_operand):\n",
    "    for i in range(len(first_operand)):\n",
    "        if not (first_operand[i].isdigit() and second_operand[i].isdigit()):\n",
    "            return \"Error: Numbers must only contain digits.\"\n",
    "        \n",
    "    for i in range(len(first_operand)):\n",
    "        if len(first_operand[i]) > 4 or len(second_operand[i]) > 4:\n",
    "            return \"Error: Numbers cannot be more than four digits.\""
   ]
  },
  {
   "cell_type": "code",
   "execution_count": 8,
   "id": "dbe3e2a1",
   "metadata": {},
   "outputs": [],
   "source": [
    "first_l = []\n",
    "second_l = []\n",
    "third_l = []\n",
    "fourth_l = []"
   ]
  },
  {
   "cell_type": "code",
   "execution_count": 9,
   "id": "a4b1703a",
   "metadata": {},
   "outputs": [],
   "source": [
    "for i in range(len(first_operand)):\n",
    "        if len(first_operand[i]) > len(second_operand[i]):\n",
    "            first_l.append(\" \"*2 + first_operand[i])\n",
    "        else:\n",
    "            first_l.append(\" \"*(len(second_operand[i]) - len(first_operand[i]) + 2) + first_operand[i])"
   ]
  },
  {
   "cell_type": "code",
   "execution_count": 10,
   "id": "215e8dcd",
   "metadata": {},
   "outputs": [
    {
     "data": {
      "text/plain": [
       "['   32', '  3801', '  45', '  123']"
      ]
     },
     "execution_count": 10,
     "metadata": {},
     "output_type": "execute_result"
    }
   ],
   "source": [
    "first_l"
   ]
  },
  {
   "cell_type": "code",
   "execution_count": 11,
   "id": "c2935d22",
   "metadata": {},
   "outputs": [],
   "source": [
    " for i in range(len(second_operand)):\n",
    "        if len(second_operand[i]) > len(first_operand[i]):\n",
    "            second_l.append(operator[i] + \" \" + second_operand[i])\n",
    "        else:\n",
    "            second_l.append(operator[i] + \" \"*(len(first_operand[i]) - len(second_operand[i]) + 1) + second_operand[i])"
   ]
  },
  {
   "cell_type": "code",
   "execution_count": 12,
   "id": "37b7dd8b",
   "metadata": {
    "scrolled": false
   },
   "outputs": [
    {
     "data": {
      "text/plain": [
       "['+ 698', '-    2', '+ 43', '+  49']"
      ]
     },
     "execution_count": 12,
     "metadata": {},
     "output_type": "execute_result"
    }
   ],
   "source": [
    "second_l"
   ]
  },
  {
   "cell_type": "code",
   "execution_count": 13,
   "id": "30ec48ec",
   "metadata": {},
   "outputs": [],
   "source": [
    "for i in range(len(first_operand)):\n",
    "        third_l.append(\"-\"*(max(len(first_operand[i]), len(second_operand[i])) + 2))"
   ]
  },
  {
   "cell_type": "code",
   "execution_count": 14,
   "id": "f102f7be",
   "metadata": {},
   "outputs": [
    {
     "data": {
      "text/plain": [
       "['-----', '------', '----', '-----']"
      ]
     },
     "execution_count": 14,
     "metadata": {},
     "output_type": "execute_result"
    }
   ],
   "source": [
    "third_l"
   ]
  },
  {
   "cell_type": "code",
   "execution_count": 15,
   "id": "fcc43773",
   "metadata": {},
   "outputs": [],
   "source": [
    "for i in range(len(first_operand)):\n",
    "    if operator[i] == \"+\":\n",
    "        ans = str(int(first_operand[i]) + int(second_operand[i]))\n",
    "    else:\n",
    "        ans = str(int(first_operand[i]) - int(second_operand[i]))\n",
    "\n",
    "    if len(ans) > max(len(first_operand[i]), len(second_operand[i])):\n",
    "        fourth_l.append(\" \" + ans)\n",
    "    else:\n",
    "        fourth_l.append(\" \"*(max(len(first_operand[i]), len(second_operand[i])) - len(ans) + 2) + ans)\n"
   ]
  },
  {
   "cell_type": "code",
   "execution_count": 16,
   "id": "263d5709",
   "metadata": {},
   "outputs": [
    {
     "data": {
      "text/plain": [
       "['  730', '  3799', '  88', '  172']"
      ]
     },
     "execution_count": 16,
     "metadata": {},
     "output_type": "execute_result"
    }
   ],
   "source": [
    "fourth_l"
   ]
  },
  {
   "cell_type": "code",
   "execution_count": 17,
   "id": "704e4eb3",
   "metadata": {
    "scrolled": true
   },
   "outputs": [],
   "source": [
    "arranged_problems = \"    \".join(first_l) + \"\\n\" + \"    \".join(second_l) + \"\\n\" + \"    \".join(third_l)"
   ]
  },
  {
   "cell_type": "code",
   "execution_count": 18,
   "id": "7a56da4b",
   "metadata": {},
   "outputs": [
    {
     "data": {
      "text/plain": [
       "'   32      3801      45      123\\n+ 698    -    2    + 43    +  49\\n-----    ------    ----    -----'"
      ]
     },
     "execution_count": 18,
     "metadata": {},
     "output_type": "execute_result"
    }
   ],
   "source": [
    "arranged_problems"
   ]
  },
  {
   "cell_type": "code",
   "execution_count": 19,
   "id": "7273a171",
   "metadata": {},
   "outputs": [
    {
     "name": "stdout",
     "output_type": "stream",
     "text": [
      "   32      3801      45      123\n",
      "+ 698    -    2    + 43    +  49\n",
      "-----    ------    ----    -----\n"
     ]
    }
   ],
   "source": [
    "print(arranged_problems)"
   ]
  },
  {
   "cell_type": "code",
   "execution_count": 20,
   "id": "89c55c9c",
   "metadata": {},
   "outputs": [],
   "source": [
    "arranged_problems = \"    \".join(first_l) + \"\\n\" + \"    \".join(second_l) + \"\\n\" + \"    \".join(third_l) + \"\\n\" + \"    \".join(fourth_l)"
   ]
  },
  {
   "cell_type": "code",
   "execution_count": 21,
   "id": "af205b94",
   "metadata": {},
   "outputs": [
    {
     "name": "stdout",
     "output_type": "stream",
     "text": [
      "   32      3801      45      123\n",
      "+ 698    -    2    + 43    +  49\n",
      "-----    ------    ----    -----\n",
      "  730      3799      88      172\n"
     ]
    }
   ],
   "source": [
    "print(arranged_problems)"
   ]
  },
  {
   "cell_type": "code",
   "execution_count": 22,
   "id": "379d7fca",
   "metadata": {},
   "outputs": [],
   "source": [
    "def arithmetic_arranger(problems , show_sol = False):\n",
    "    # check the number of problems\n",
    "    if (len(problems) > 5) :\n",
    "        return \"Error: Too many problems.\"\n",
    "    \n",
    "    first_operand = []\n",
    "    operator = []\n",
    "    second_operand = []\n",
    "\n",
    "    for problem in problems:\n",
    "        pieces = problem.split()\n",
    "        first_operand.append(pieces[0])\n",
    "        operator.append(pieces[1])\n",
    "        second_operand.append(pieces[2])\n",
    "\n",
    "    # check for * or / in operator\n",
    "    if '*' in operator or '/' in operator:\n",
    "        return \"Error: Operator must be '+' or '-'.\"\n",
    "\n",
    "    # check the digits\n",
    "    for i in range(len(first_operand)):\n",
    "        if not(first_operand[i].isdigit() and second_operand[i].isdigit()):\n",
    "            return \"Error: Numbers must only contain digits.\"\n",
    "\n",
    "    # check for the length of operand\n",
    "    for i in range(len(first_operand)):\n",
    "        if (len(first_operand[i]) > 4 or len(second_operand[i]) > 4):\n",
    "            return \"Error: Numbers cannot be more than four digits.\"\n",
    "\n",
    "\n",
    "    first_l = []\n",
    "    second_l = []\n",
    "    third_l = []\n",
    "    fourth_l = []\n",
    "\n",
    "    # for the first_l \n",
    "  \n",
    "    for i in range(len(first_operand)):\n",
    "        if(len(first_operand[i]) > len(second_operand[i])):\n",
    "            first_l.append(\" \" * 2 + first_operand[i])\n",
    "        else:\n",
    "            first_l.append(\" \" * (len(second_operand[i]) - len(first_operand[i]) + 2) + first_operand[i])\n",
    "  \n",
    "    #for the second_l\n",
    "    \n",
    "    for i in range(len(second_operand)):\n",
    "        if(len(second_operand[i]) > len(first_operand[i])):\n",
    "            second_l.append(operator[i] + \" \" + second_operand[i])\n",
    "        else:\n",
    "            second_l.append(operator[i] + \" \" * (len(first_operand[i]) - len(second_operand[i]) + 1) + second_operand[i])\n",
    "\n",
    "    # for the third_l\n",
    "    for i in range(len(first_operand)):\n",
    "        third_l.append(\"-\" * (max(len(first_operand[i]) , len(second_operand[i])) + 2))\n",
    "\n",
    "    # for the fourth_l & ans\n",
    "    for i in range(len(first_operand)):\n",
    "        if operator[i] == \"+\":\n",
    "            ans = str(int(first_operand[i]) + int(second_operand[i]))\n",
    "        else:\n",
    "            ans = str(int(first_operand[i]) - int(second_operand[i]))\n",
    "\n",
    "        if (len(ans) > max(len(first_operand[i]) , len(second_operand[i]))):\n",
    "            fourth_l.append(\" \"+ans)\n",
    "        else:\n",
    "            fourth_l.append(\" \" * (max(len(first_operand[i]) , len(second_operand[i])) - len(ans) + 2) + ans)\n",
    "\n",
    "\n",
    "    # Displaying the solution\n",
    "    if show_sol:\n",
    "        arranged_problems = (\" \"*4).join(first_l) + \"\\n\" + (\" \"*4).join(second_l) + \"\\n\" + (\" \"*4).join(third_l) + \"\\n\" + (\" \"*4).join(fourth_l)\n",
    "    else:\n",
    "        arranged_problems = (\" \"*4).join(first_l) + \"\\n\" + (\" \"*4).join(second_l) + \"\\n\" + (\" \"*4).join(third_l)\n",
    "    \n",
    "    return arranged_problems"
   ]
  },
  {
   "cell_type": "code",
   "execution_count": 23,
   "id": "0a132bd5",
   "metadata": {
    "scrolled": true
   },
   "outputs": [
    {
     "name": "stdout",
     "output_type": "stream",
     "text": [
      "   32      3801      45      123\n",
      "+ 698    -    2    + 43    +  49\n",
      "-----    ------    ----    -----\n"
     ]
    }
   ],
   "source": [
    "print(arithmetic_arranger([\"32 + 698\", \"3801 - 2\", \"45 + 43\", \"123 + 49\"]))"
   ]
  },
  {
   "cell_type": "code",
   "execution_count": 24,
   "id": "7db181a2",
   "metadata": {},
   "outputs": [
    {
     "name": "stdout",
     "output_type": "stream",
     "text": [
      "   32      3801      45      123\n",
      "+ 698    -    2    + 43    +  49\n",
      "-----    ------    ----    -----\n",
      "  730      3799      88      172\n"
     ]
    }
   ],
   "source": [
    "print(arithmetic_arranger([\"32 + 698\", \"3801 - 2\", \"45 + 43\", \"123 + 49\"],True))"
   ]
  },
  {
   "cell_type": "code",
   "execution_count": 25,
   "id": "720ed890",
   "metadata": {
    "scrolled": true
   },
   "outputs": [
    {
     "name": "stdout",
     "output_type": "stream",
     "text": [
      "   32         1      45      123      988\n",
      "- 698    - 3801    + 43    +  49    +  40\n",
      "-----    ------    ----    -----    -----\n",
      " -666     -3800      88      172     1028\n"
     ]
    }
   ],
   "source": [
    "print(arithmetic_arranger(['32 - 698', '1 - 3801', '45 + 43', '123 + 49', '988 + 40'], True))"
   ]
  },
  {
   "cell_type": "markdown",
   "id": "a20f9b47",
   "metadata": {},
   "source": [
    "# Time Calculator"
   ]
  },
  {
   "cell_type": "code",
   "execution_count": 1,
   "id": "ab1608ee",
   "metadata": {},
   "outputs": [],
   "source": [
    "start = \"11:43 PM\"\n",
    "duration = \"24:20\"\n",
    "starting_day = \"tueSday\""
   ]
  },
  {
   "cell_type": "code",
   "execution_count": 2,
   "id": "e46164d6",
   "metadata": {
    "scrolled": true
   },
   "outputs": [
    {
     "data": {
      "text/plain": [
       "['11:43', 'PM']"
      ]
     },
     "execution_count": 2,
     "metadata": {},
     "output_type": "execute_result"
    }
   ],
   "source": [
    "pieces = start.split()\n",
    "pieces"
   ]
  },
  {
   "cell_type": "code",
   "execution_count": 3,
   "id": "68aa0cbd",
   "metadata": {},
   "outputs": [
    {
     "data": {
      "text/plain": [
       "['11', '43']"
      ]
     },
     "execution_count": 3,
     "metadata": {},
     "output_type": "execute_result"
    }
   ],
   "source": [
    "time = pieces[0].split(\":\")\n",
    "time"
   ]
  },
  {
   "cell_type": "code",
   "execution_count": 4,
   "id": "7de1fec5",
   "metadata": {},
   "outputs": [
    {
     "data": {
      "text/plain": [
       "'PM'"
      ]
     },
     "execution_count": 4,
     "metadata": {},
     "output_type": "execute_result"
    }
   ],
   "source": [
    "end = pieces[1]\n",
    "end"
   ]
  },
  {
   "cell_type": "code",
   "execution_count": 5,
   "id": "6065dc06",
   "metadata": {},
   "outputs": [
    {
     "data": {
      "text/plain": [
       "['23', '43']"
      ]
     },
     "execution_count": 5,
     "metadata": {},
     "output_type": "execute_result"
    }
   ],
   "source": [
    "# Converting into 24 hour clock format\n",
    "if(end == \"PM\"):\n",
    "    hour = int(time[0]) + 12\n",
    "    time[0] = str(hour)\n",
    "\n",
    "time"
   ]
  },
  {
   "cell_type": "code",
   "execution_count": 6,
   "id": "3521338d",
   "metadata": {},
   "outputs": [
    {
     "data": {
      "text/plain": [
       "['24', '20']"
      ]
     },
     "execution_count": 6,
     "metadata": {},
     "output_type": "execute_result"
    }
   ],
   "source": [
    "dur_time = duration.split(\":\")\n",
    "\n",
    "dur_time"
   ]
  },
  {
   "cell_type": "code",
   "execution_count": 7,
   "id": "e4bde073",
   "metadata": {},
   "outputs": [
    {
     "data": {
      "text/plain": [
       "47"
      ]
     },
     "execution_count": 7,
     "metadata": {},
     "output_type": "execute_result"
    }
   ],
   "source": [
    "new_hour = int(time[0]) + int(dur_time[0])\n",
    "new_hour"
   ]
  },
  {
   "cell_type": "code",
   "execution_count": 8,
   "id": "7def8cf7",
   "metadata": {},
   "outputs": [
    {
     "data": {
      "text/plain": [
       "63"
      ]
     },
     "execution_count": 8,
     "metadata": {},
     "output_type": "execute_result"
    }
   ],
   "source": [
    "new_minutes = int(time[1]) + int(dur_time[1])\n",
    "new_minutes"
   ]
  },
  {
   "cell_type": "code",
   "execution_count": 9,
   "id": "0a26c16b",
   "metadata": {},
   "outputs": [
    {
     "data": {
      "text/plain": [
       "(48, 3)"
      ]
     },
     "execution_count": 9,
     "metadata": {},
     "output_type": "execute_result"
    }
   ],
   "source": [
    "if(new_minutes >= 60):\n",
    "    hr_add = new_minutes // 60\n",
    "    new_minutes -= hr_add * 60\n",
    "    new_hour += hr_add\n",
    "\n",
    "new_hour , new_minutes"
   ]
  },
  {
   "cell_type": "code",
   "execution_count": 10,
   "id": "6a2f0ec0",
   "metadata": {},
   "outputs": [],
   "source": [
    "days_add = 0"
   ]
  },
  {
   "cell_type": "code",
   "execution_count": 11,
   "id": "644da251",
   "metadata": {},
   "outputs": [
    {
     "data": {
      "text/plain": [
       "(2, 0)"
      ]
     },
     "execution_count": 11,
     "metadata": {},
     "output_type": "execute_result"
    }
   ],
   "source": [
    "if(new_hour > 24):\n",
    "    days_add = new_hour // 24\n",
    "    new_hour -= days_add * 24\n",
    "\n",
    "days_add , new_hour"
   ]
  },
  {
   "cell_type": "code",
   "execution_count": 12,
   "id": "0eb3a73a",
   "metadata": {},
   "outputs": [
    {
     "data": {
      "text/plain": [
       "(12, 'AM')"
      ]
     },
     "execution_count": 12,
     "metadata": {},
     "output_type": "execute_result"
    }
   ],
   "source": [
    "if(new_hour > 0 and new_hour < 12):\n",
    "    end = \"AM\"\n",
    "elif(new_hour == 12):\n",
    "    end = \"PM\"\n",
    "elif(new_hour > 12):\n",
    "    end = \"PM\"\n",
    "    new_hour -= 12\n",
    "# if new_hour == 0\n",
    "else:\n",
    "    end = \"AM\"\n",
    "    new_hour += 12\n",
    "    \n",
    "new_hour , end"
   ]
  },
  {
   "cell_type": "code",
   "execution_count": 13,
   "id": "da7bf2ad",
   "metadata": {},
   "outputs": [
    {
     "data": {
      "text/plain": [
       "' (2 days later)'"
      ]
     },
     "execution_count": 13,
     "metadata": {},
     "output_type": "execute_result"
    }
   ],
   "source": [
    "if(days_add > 0):\n",
    "    if(days_add == 1):\n",
    "        days_later = \" (next day)\"\n",
    "    else:\n",
    "        days_later = f\" ({days_add} days later)\"\n",
    "else:\n",
    "    days_later = \"\"\n",
    "days_later"
   ]
  },
  {
   "cell_type": "code",
   "execution_count": 14,
   "id": "874b156b",
   "metadata": {},
   "outputs": [
    {
     "data": {
      "text/plain": [
       "('monday', 'tuesday', 'wednesday', 'thursday', 'friday', 'saturday', 'sunday')"
      ]
     },
     "execution_count": 14,
     "metadata": {},
     "output_type": "execute_result"
    }
   ],
   "source": [
    "week_days = (\"monday\", \"tuesday\", \"wednesday\", \"thursday\", \"friday\", \"saturday\", \"sunday\")\n",
    "week_days"
   ]
  },
  {
   "cell_type": "code",
   "execution_count": 15,
   "id": "2e1a90ab",
   "metadata": {},
   "outputs": [
    {
     "data": {
      "text/plain": [
       "', Thursday'"
      ]
     },
     "execution_count": 15,
     "metadata": {},
     "output_type": "execute_result"
    }
   ],
   "source": [
    "if starting_day:\n",
    "    weeks = days_add // 7\n",
    "    i = week_days.index(starting_day.lower()) + (days_add - 7 * weeks)\n",
    "    if i > 6:\n",
    "        i -= 7\n",
    "    day = f\", {week_days[i].capitalize()}\"\n",
    "else:\n",
    "    day = \"\"\n",
    "day"
   ]
  },
  {
   "cell_type": "code",
   "execution_count": 16,
   "id": "9c929690",
   "metadata": {},
   "outputs": [
    {
     "data": {
      "text/plain": [
       "'03'"
      ]
     },
     "execution_count": 16,
     "metadata": {},
     "output_type": "execute_result"
    }
   ],
   "source": [
    "if(new_minutes <= 9):\n",
    "    new_minutes = f\"0{new_minutes}\"\n",
    "new_minutes"
   ]
  },
  {
   "cell_type": "code",
   "execution_count": 17,
   "id": "e794187a",
   "metadata": {},
   "outputs": [
    {
     "data": {
      "text/plain": [
       "'12:03 AM, Thursday (2 days later)'"
      ]
     },
     "execution_count": 17,
     "metadata": {},
     "output_type": "execute_result"
    }
   ],
   "source": [
    "new_time = f\"{new_hour}:{new_minutes} {end}{day}{days_later}\"\n",
    "new_time"
   ]
  },
  {
   "cell_type": "code",
   "execution_count": 18,
   "id": "7e5382fe",
   "metadata": {},
   "outputs": [],
   "source": [
    "def add_time(start, duration, starting_day=\"\"):\n",
    "    # Seperate the start into hours and minutes\n",
    "    pieces = start.split()\n",
    "    time = pieces[0].split(\":\")\n",
    "    end = pieces[1]\n",
    "\n",
    "    # Converting 24 hour clock format\n",
    "    if (end == \"PM\"):\n",
    "        hour = int(time[0]) + 12\n",
    "        time[0] = str(hour)\n",
    "\n",
    "    # Separate the duration into hours and minutes\n",
    "    dur_time = duration.split(\":\")\n",
    "\n",
    "    # Add hours and minutes\n",
    "    new_hour = int(time[0]) + int(dur_time[0])\n",
    "    new_minutes = int(time[1]) + int(dur_time[1])\n",
    "\n",
    "    if (new_minutes >= 60):\n",
    "        hr_add = new_minutes // 60\n",
    "        new_minutes -= hr_add * 60\n",
    "        new_hour += hr_add\n",
    "\n",
    "    days_add = 0\n",
    "\n",
    "    if (new_hour > 24):\n",
    "        days_add = new_hour // 24\n",
    "        new_hour -= days_add * 24\n",
    "\n",
    "    # Find AM & PM and Converting to 12 hour clock format\n",
    "    if (new_hour > 0 and new_hour < 12):\n",
    "        end = \"AM\"\n",
    "    elif (new_hour == 12):\n",
    "        end = \"PM\"\n",
    "    elif (new_hour > 12):\n",
    "        end = \"PM\"\n",
    "        new_hour -= 12\n",
    "    else:\n",
    "        # new_hour == 0\n",
    "        end = \"AM\"\n",
    "        new_hour += 12\n",
    "\n",
    "    # Calculating the days_later\n",
    "    days_later = \"\"\n",
    "    if (days_add > 0):\n",
    "        if (days_add == 1):\n",
    "            days_later = \" (next day)\"\n",
    "        else:\n",
    "            days_later = f\" ({days_add} days later)\"\n",
    "\n",
    "    # Calculating day from starting_day\n",
    "    week_days = (\"monday\", \"tuesday\", \"wednesday\", \"thursday\", \"friday\",\"saturday\", \"sunday\")\n",
    "\n",
    "    if starting_day :\n",
    "        weeks = days_add // 7\n",
    "        i = week_days.index(starting_day.lower()) + (days_add - 7 * weeks)\n",
    "\n",
    "        if i > 6 :\n",
    "            i -= 7\n",
    "    \n",
    "        day = f\", {week_days[i].capitalize()}\"\n",
    "  \n",
    "    else:\n",
    "        day = \"\"\n",
    "\n",
    "    # formatting new_minutes\n",
    "    if(new_minutes <= 9):\n",
    "        new_minutes = f\"0{new_minutes}\"\n",
    "\n",
    "    new_time = f\"{new_hour}:{new_minutes} {end}{day}{days_later}\"\n",
    "  \n",
    "    return new_time"
   ]
  },
  {
   "cell_type": "code",
   "execution_count": 19,
   "id": "1450b97b",
   "metadata": {},
   "outputs": [
    {
     "data": {
      "text/plain": [
       "'6:18 AM, Monday (20 days later)'"
      ]
     },
     "execution_count": 19,
     "metadata": {},
     "output_type": "execute_result"
    }
   ],
   "source": [
    "add_time(\"8:16 PM\", \"466:02\", \"tuesday\")"
   ]
  },
  {
   "cell_type": "code",
   "execution_count": 20,
   "id": "18c520ec",
   "metadata": {},
   "outputs": [
    {
     "name": "stdout",
     "output_type": "stream",
     "text": [
      "6:10 PM\n",
      "2:02 PM, Monday\n",
      "12:03 PM\n",
      "1:40 AM (next day)\n",
      "12:03 AM, Thursday (2 days later)\n",
      "7:42 AM (9 days later)\n"
     ]
    }
   ],
   "source": [
    "print(add_time(\"3:00 PM\", \"3:10\"))\n",
    "# Returns: 6:10 PM\n",
    "\n",
    "print(add_time(\"11:30 AM\", \"2:32\", \"Monday\"))\n",
    "# Returns: 2:02 PM, Monday\n",
    "\n",
    "print(add_time(\"11:43 AM\", \"00:20\"))\n",
    "# Returns: 12:03 PM\n",
    "\n",
    "print(add_time(\"10:10 PM\", \"3:30\"))\n",
    "# Returns: 1:40 AM (next day)\n",
    "\n",
    "print(add_time(\"11:43 PM\", \"24:20\", \"tueSday\"))\n",
    "# Returns: 12:03 AM, Thursday (2 days later)\n",
    "\n",
    "print(add_time(\"6:30 PM\", \"205:12\"))\n",
    "# Returns: 7:42 AM (9 days later)"
   ]
  },
  {
   "cell_type": "markdown",
   "id": "d54f27e5",
   "metadata": {},
   "source": [
    "# Budget App"
   ]
  },
  {
   "cell_type": "code",
   "execution_count": 1,
   "id": "74acbfc2",
   "metadata": {},
   "outputs": [],
   "source": [
    "class Category:\n",
    "    \n",
    "    def __init__(self, category):\n",
    "        self.category = category\n",
    "        self.ledger = []\n",
    "    \n",
    "    def __str__(self):\n",
    "        txt = self.category.center(30, \"*\") + \"\\n\"\n",
    "\n",
    "        for item in self.ledger:\n",
    "            temp = f\"{item['description'][:23]:23}{item['amount']:7.2f}\"\n",
    "            txt += temp + \"\\n\"\n",
    "\n",
    "        txt += f\"Total: {self.get_balance()}\"\n",
    "        return txt\n",
    "    \n",
    "    def deposit(self, amount, description=\"\"):\n",
    "        temp = {}\n",
    "        temp['amount'] = amount\n",
    "        temp['description'] = description\n",
    "        self.ledger.append(temp)\n",
    "    \n",
    "    def withdraw(self, amount, description=\"\"):\n",
    "        if self.check_funds(amount):\n",
    "            temp = {}\n",
    "            temp['amount'] = 0 - amount\n",
    "            temp['description'] = description\n",
    "            self.ledger.append(temp)\n",
    "            return True\n",
    "        \n",
    "        return False\n",
    "    \n",
    "    def get_balance(self):\n",
    "        balance = 0\n",
    "        \n",
    "        for item in self.ledger:\n",
    "            balance += item['amount']\n",
    "            \n",
    "        return balance\n",
    "    \n",
    "    def transfer(self, amount, to_cat):\n",
    "        if self.check_funds(amount):\n",
    "            self.withdraw(amount, \"Transfer to \" + to_cat.category)\n",
    "            to_cat.deposit(amount, \"Transfer from \" + self.category)\n",
    "            return True\n",
    "        return False\n",
    "    \n",
    "    def check_funds(self, amount):\n",
    "        if amount > self.get_balance():\n",
    "            return False\n",
    "        return True"
   ]
  },
  {
   "cell_type": "code",
   "execution_count": 2,
   "id": "fece674c",
   "metadata": {},
   "outputs": [
    {
     "data": {
      "text/plain": [
       "True"
      ]
     },
     "execution_count": 2,
     "metadata": {},
     "output_type": "execute_result"
    }
   ],
   "source": [
    "food = Category(\"Food\")\n",
    "food.deposit(1000, \"initial deposit\")\n",
    "food.withdraw(10.15, \"groceries\")\n",
    "food.withdraw(15.89, \"restaurant and more food for dessert\")\n",
    "\n",
    "clothing = Category(\"Clothing\")\n",
    "food.transfer(50, clothing)\n",
    "\n",
    "clothing.withdraw(25.55)\n",
    "clothing.withdraw(100)\n",
    "\n",
    "auto = Category(\"Auto\")\n",
    "auto.deposit(1000, \"initial deposit\")\n",
    "auto.withdraw(15)"
   ]
  },
  {
   "cell_type": "code",
   "execution_count": 3,
   "id": "15db3633",
   "metadata": {},
   "outputs": [],
   "source": [
    "categories = [food , clothing , auto]\n",
    "spend = []"
   ]
  },
  {
   "cell_type": "code",
   "execution_count": 4,
   "id": "39c2958a",
   "metadata": {},
   "outputs": [
    {
     "data": {
      "text/plain": [
       "[76.03999999999999, 25.55, 15]"
      ]
     },
     "execution_count": 4,
     "metadata": {},
     "output_type": "execute_result"
    }
   ],
   "source": [
    "for category in categories:\n",
    "    temp = 0\n",
    "    \n",
    "    for item in category.ledger:\n",
    "        if (item['amount'] < 0):\n",
    "            temp += abs(item['amount'])\n",
    "    spend.append(temp)\n",
    "spend"
   ]
  },
  {
   "cell_type": "code",
   "execution_count": 5,
   "id": "7bf2356b",
   "metadata": {},
   "outputs": [
    {
     "data": {
      "text/plain": [
       "(116.58999999999999,\n",
       " [65.22000171541299, 21.914400892014754, 12.865597392572262])"
      ]
     },
     "execution_count": 5,
     "metadata": {},
     "output_type": "execute_result"
    }
   ],
   "source": [
    "total = sum(spend)\n",
    "percent = [i / total * 100 for i in spend]\n",
    "\n",
    "total , percent"
   ]
  },
  {
   "cell_type": "code",
   "execution_count": 6,
   "id": "042186c3",
   "metadata": {},
   "outputs": [
    {
     "name": "stdout",
     "output_type": "stream",
     "text": [
      "Percentage spent by category\n",
      "100|          \n",
      " 90|          \n",
      " 80|          \n",
      " 70|          \n",
      " 60| o        \n",
      " 50| o        \n",
      " 40| o        \n",
      " 30| o        \n",
      " 20| o  o     \n",
      " 10| o  o  o  \n",
      "  0| o  o  o  \n",
      "    ----------\n"
     ]
    }
   ],
   "source": [
    "txt = \"Percentage spent by category\"\n",
    "for i in range(100 , -1 , -10):\n",
    "    txt += \"\\n\" + str(i).rjust(3) + \"|\"\n",
    "    for j in percent:\n",
    "        if j > i:\n",
    "            txt += \" o \"\n",
    "        else:\n",
    "            txt += \" \"*3\n",
    "    txt += \" \"\n",
    "    \n",
    "txt += \"\\n\"+ \" \"*4 +\"-\"*10\n",
    "\n",
    "\n",
    "print(txt)"
   ]
  },
  {
   "cell_type": "code",
   "execution_count": 7,
   "id": "22932319",
   "metadata": {},
   "outputs": [
    {
     "data": {
      "text/plain": [
       "([4, 8, 4], 8)"
      ]
     },
     "execution_count": 7,
     "metadata": {},
     "output_type": "execute_result"
    }
   ],
   "source": [
    "cat_len = []\n",
    "for category in categories:\n",
    "    cat_len.append(len(category.category))\n",
    "\n",
    "max_len = max(cat_len)\n",
    "cat_len , max_len"
   ]
  },
  {
   "cell_type": "code",
   "execution_count": 8,
   "id": "d1b59b7f",
   "metadata": {},
   "outputs": [
    {
     "name": "stdout",
     "output_type": "stream",
     "text": [
      "Percentage spent by category\n",
      "100|          \n",
      " 90|          \n",
      " 80|          \n",
      " 70|          \n",
      " 60| o        \n",
      " 50| o        \n",
      " 40| o        \n",
      " 30| o        \n",
      " 20| o  o     \n",
      " 10| o  o  o  \n",
      "  0| o  o  o  \n",
      "    ----------\n",
      "     F  C  A  \n",
      "     o  l  u  \n",
      "     o  o  t  \n",
      "     d  t  o  \n",
      "        h     \n",
      "        i     \n",
      "        n     \n",
      "        g     \n"
     ]
    }
   ],
   "source": [
    "for i in range(max_len):\n",
    "    txt +=\"\\n\"+\" \"*4\n",
    "    \n",
    "    for j in range(len(categories)):\n",
    "        if i < cat_len[j]:\n",
    "            txt += \" \" +categories[j].category[i] +\" \"\n",
    "        else:\n",
    "            txt += \" \"*3\n",
    "    txt += \" \"\n",
    "    \n",
    "print(txt)"
   ]
  },
  {
   "cell_type": "code",
   "execution_count": 9,
   "id": "7b50aa10",
   "metadata": {},
   "outputs": [],
   "source": [
    "def create_spend_chart(categories):\n",
    "    spend = []\n",
    "    for category in categories:\n",
    "        temp = 0\n",
    "        for item in category.ledger:\n",
    "            if item['amount'] < 0:\n",
    "                temp += abs(item['amount'])\n",
    "        spend.append(temp)\n",
    "    \n",
    "    total = sum(spend)\n",
    "    percent = [i/total * 100 for i in spend]\n",
    "\n",
    "    txt = \"Percentage spent by category\"\n",
    "    for i in range(100, -1, -10):\n",
    "        txt += \"\\n\" + str(i).rjust(3) + \"|\"\n",
    "        for j in percent:\n",
    "            if j > i:\n",
    "                txt += \" o \"\n",
    "            else:\n",
    "                txt += \" \"*3\n",
    "        \n",
    "        txt += \" \"\n",
    "        \n",
    "    txt += \"\\n\"+ \" \"*4 +\"-\"*10\n",
    "\n",
    "    cat_len = []\n",
    "    for category in categories:\n",
    "        cat_len.append(len(category.category))\n",
    "    \n",
    "    max_len = max(cat_len)\n",
    "\n",
    "    for i in range(max_len):\n",
    "        txt += \"\\n\" + \" \"*4\n",
    "        for j in range(len(categories)):\n",
    "            if i < cat_len[j]:\n",
    "                txt += \" \" + categories[j].category[i] + \" \"\n",
    "            else:\n",
    "                txt += \" \"*3\n",
    "        \n",
    "        txt += \" \"\n",
    "\n",
    "    return txt"
   ]
  },
  {
   "cell_type": "code",
   "execution_count": 10,
   "id": "73cd3b9b",
   "metadata": {
    "scrolled": false
   },
   "outputs": [
    {
     "name": "stdout",
     "output_type": "stream",
     "text": [
      "973.96\n",
      "*************Food*************\n",
      "initial deposit        1000.00\n",
      "groceries               -10.15\n",
      "restaurant and more foo -15.89\n",
      "Transfer to Clothing    -50.00\n",
      "Total: 923.96\n",
      "***********Clothing***********\n",
      "Transfer from Food       50.00\n",
      "                        -25.55\n",
      "Total: 24.45\n",
      "*************Auto*************\n",
      "initial deposit        1000.00\n",
      "                        -15.00\n",
      "Total: 985\n",
      "Percentage spent by category\n",
      "100|          \n",
      " 90|          \n",
      " 80|          \n",
      " 70|          \n",
      " 60| o        \n",
      " 50| o        \n",
      " 40| o        \n",
      " 30| o        \n",
      " 20| o  o     \n",
      " 10| o  o  o  \n",
      "  0| o  o  o  \n",
      "    ----------\n",
      "     F  C  A  \n",
      "     o  l  u  \n",
      "     o  o  t  \n",
      "     d  t  o  \n",
      "        h     \n",
      "        i     \n",
      "        n     \n",
      "        g     \n"
     ]
    }
   ],
   "source": [
    "food = Category(\"Food\")\n",
    "food.deposit(1000, \"initial deposit\")\n",
    "food.withdraw(10.15, \"groceries\")\n",
    "food.withdraw(15.89, \"restaurant and more food for dessert\")\n",
    "print(food.get_balance())\n",
    "\n",
    "clothing = Category(\"Clothing\")\n",
    "food.transfer(50, clothing)\n",
    "\n",
    "clothing.withdraw(25.55)\n",
    "clothing.withdraw(100)\n",
    "\n",
    "auto = Category(\"Auto\")\n",
    "auto.deposit(1000, \"initial deposit\")\n",
    "auto.withdraw(15)\n",
    "\n",
    "print(food)\n",
    "print(clothing)\n",
    "print(auto)\n",
    "print(create_spend_chart([food, clothing, auto]))"
   ]
  },
  {
   "cell_type": "markdown",
   "id": "ffa64892",
   "metadata": {},
   "source": [
    "# Polygon Area Calculator"
   ]
  },
  {
   "cell_type": "code",
   "execution_count": 1,
   "id": "ec99f1ad",
   "metadata": {},
   "outputs": [],
   "source": [
    "class Rectangle:\n",
    "\n",
    "    def __init__(self, width, height):\n",
    "        self.width = width\n",
    "        self.height = height\n",
    "\n",
    "    def __str__(self):\n",
    "        return f\"Rectangle(width={self.width}, height={self.height})\"\n",
    "\n",
    "    def set_width(self, width):\n",
    "        self.width = width\n",
    "\n",
    "    def set_height(self, height):\n",
    "        self.height = height\n",
    "\n",
    "    def get_area(self):\n",
    "        return self.width * self.height\n",
    "\n",
    "    def get_perimeter(self):\n",
    "        return 2 * (self.width + self.height)\n",
    "\n",
    "    def get_diagonal(self):\n",
    "        return (self.width ** 2 + self.height ** 2) ** 0.5\n",
    "\n",
    "    def get_picture(self):\n",
    "        if self.width > 50 or self.height > 50:\n",
    "            return \"Too big for picture.\"\n",
    "        \n",
    "        rectangle = (\"*\" * self.width + \"\\n\") * self.height\n",
    "        return rectangle\n",
    "\n",
    "    def get_amount_inside(self, shape):\n",
    "        \n",
    "        max_width = self.width // shape.width\n",
    "        max_height = self.height // shape.height\n",
    "        return max_width * max_height\n",
    "\n",
    "\n",
    "class Square(Rectangle):\n",
    "\n",
    "    def __init__(self, length):\n",
    "        super().__init__(length, length)\n",
    "\n",
    "    def __str__(self):\n",
    "        return f\"Square(side={self.width})\"\n",
    "\n",
    "    def set_side(self, side):\n",
    "        self.width = side\n",
    "        self.height = side\n",
    "\n",
    "    def set_width(self, side):\n",
    "        self.width = side\n",
    "        self.height = side\n",
    "\n",
    "    def set_height(self, side):\n",
    "        self.width = side\n",
    "        self.height = side"
   ]
  },
  {
   "cell_type": "code",
   "execution_count": 2,
   "id": "eb762f6e",
   "metadata": {},
   "outputs": [
    {
     "name": "stdout",
     "output_type": "stream",
     "text": [
      "50\n",
      "26\n",
      "Rectangle(width=10, height=3)\n",
      "**********\n",
      "**********\n",
      "**********\n",
      "\n",
      "81\n",
      "5.656854249492381\n",
      "Square(side=4)\n",
      "****\n",
      "****\n",
      "****\n",
      "****\n",
      "\n",
      "8\n"
     ]
    }
   ],
   "source": [
    "rect = Rectangle(10, 5)\n",
    "print(rect.get_area())\n",
    "rect.set_height(3)\n",
    "print(rect.get_perimeter())\n",
    "print(rect)\n",
    "print(rect.get_picture())\n",
    "\n",
    "sq = Square(9)\n",
    "print(sq.get_area())\n",
    "sq.set_side(4)\n",
    "print(sq.get_diagonal())\n",
    "print(sq)\n",
    "print(sq.get_picture())\n",
    "\n",
    "rect.set_height(8)\n",
    "rect.set_width(16)\n",
    "print(rect.get_amount_inside(sq))"
   ]
  },
  {
   "cell_type": "markdown",
   "id": "20cdfa1c",
   "metadata": {},
   "source": [
    "# Probability Calculator"
   ]
  },
  {
   "cell_type": "code",
   "execution_count": 1,
   "id": "fc1e8afd",
   "metadata": {},
   "outputs": [],
   "source": [
    "import copy\n",
    "import random\n",
    "\n",
    "class Hat:\n",
    "\n",
    "    def __init__(self, **kwargs):\n",
    "        self.contents = []\n",
    "        for key, value in kwargs.items():\n",
    "            for _ in range(value):\n",
    "                self.contents.append(key)\n",
    "\n",
    "    def draw(self, number):\n",
    "        if number > len(self.contents):\n",
    "            return self.contents\n",
    "        balls = []\n",
    "        for _ in range(number):\n",
    "            choice = random.randrange(len(self.contents))\n",
    "            balls.append(self.contents.pop(choice))\n",
    "        return balls\n",
    "\n",
    "def experiment(hat, expected_balls, num_balls_drawn, num_experiments):\n",
    "    \n",
    "    expected_no_of_balls = []\n",
    "    for key in expected_balls:\n",
    "        expected_no_of_balls.append(expected_balls[key])\n",
    "    successes = 0\n",
    "\n",
    "    for _ in range(num_experiments):\n",
    "        new_hat = copy.deepcopy(hat)\n",
    "        balls = new_hat.draw(num_balls_drawn)\n",
    "\n",
    "        no_of_balls = []\n",
    "    \n",
    "        for key in expected_balls:\n",
    "            no_of_balls.append(balls.count(key))\n",
    "\n",
    "        if no_of_balls >= expected_no_of_balls:\n",
    "            successes += 1\n",
    "\n",
    "    return successes/num_experiments"
   ]
  },
  {
   "cell_type": "code",
   "execution_count": 2,
   "id": "adc7077d",
   "metadata": {},
   "outputs": [],
   "source": [
    "hat1 = Hat(yellow=3, blue=2, green=6)\n",
    "hat2 = Hat(red=5, orange=4)\n",
    "hat3 = Hat(red=5, orange=4, black=1, blue=0, pink=2, striped=9)"
   ]
  },
  {
   "cell_type": "code",
   "execution_count": 3,
   "id": "73afcc92",
   "metadata": {},
   "outputs": [
    {
     "data": {
      "text/plain": [
       "0.4135"
      ]
     },
     "execution_count": 3,
     "metadata": {},
     "output_type": "execute_result"
    }
   ],
   "source": [
    "hat = Hat(black=6, red=4, green=3)\n",
    "probability = experiment(hat=hat,\n",
    "                  expected_balls={\"red\":2,\"green\":1},\n",
    "                  num_balls_drawn=5,\n",
    "                  num_experiments=2000)\n",
    "probability"
   ]
  },
  {
   "cell_type": "code",
   "execution_count": 4,
   "id": "58945897",
   "metadata": {},
   "outputs": [
    {
     "name": "stdout",
     "output_type": "stream",
     "text": [
      "Probability: 0.229\n"
     ]
    }
   ],
   "source": [
    "hat = Hat(blue=4, red=2, green=6)\n",
    "probability = experiment(\n",
    "    hat=hat,\n",
    "    expected_balls={\"blue\": 2,\n",
    "                    \"red\": 1},\n",
    "    num_balls_drawn=4,\n",
    "    num_experiments=3000)\n",
    "print(\"Probability:\", probability)"
   ]
  }
 ],
 "metadata": {
  "kernelspec": {
   "display_name": "Python 3 (ipykernel)",
   "language": "python",
   "name": "python3"
  },
  "language_info": {
   "codemirror_mode": {
    "name": "ipython",
    "version": 3
   },
   "file_extension": ".py",
   "mimetype": "text/x-python",
   "name": "python",
   "nbconvert_exporter": "python",
   "pygments_lexer": "ipython3",
   "version": "3.9.7"
  }
 },
 "nbformat": 4,
 "nbformat_minor": 5
}
